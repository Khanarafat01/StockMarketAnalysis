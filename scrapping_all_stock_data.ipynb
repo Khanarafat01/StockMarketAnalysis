{
 "cells": [
  {
   "cell_type": "markdown",
   "id": "0324f251-6893-4675-8dd3-72c87f2163d3",
   "metadata": {},
   "source": [
    "### important liabraries"
   ]
  },
  {
   "cell_type": "code",
   "execution_count": 5,
   "id": "1f490bf8-0ff0-4083-8d3a-51645dd8de39",
   "metadata": {},
   "outputs": [],
   "source": [
    "import yfinance as yf\n",
    "import pandas as pd"
   ]
  },
  {
   "cell_type": "code",
   "execution_count": 12,
   "id": "6c1c7199-3718-473d-82e1-84d3f022bb17",
   "metadata": {},
   "outputs": [],
   "source": [
    "tickers = [\"AAPL\", \"GOOGL\", \"MSFT\", \"AMZN\", \"TSLA\",\n",
    "           \"META\", \"NVDA\", \"JPM\", \"NFLX\", \"IBM\"]"
   ]
  },
  {
   "cell_type": "code",
   "execution_count": 19,
   "id": "96a47de1-1244-4e49-9292-bbd0ed7f8532",
   "metadata": {},
   "outputs": [
    {
     "name": "stderr",
     "output_type": "stream",
     "text": [
      "[*********************100%***********************]  10 of 10 completed\n"
     ]
    }
   ],
   "source": [
    "data = yf.download(tickers, start=\"2023-10-01\", end=\"2024-04-01\", group_by='ticker')"
   ]
  },
  {
   "cell_type": "code",
   "execution_count": 20,
   "id": "fead07b8-f37e-40cd-8ab8-ac7a8bb1fbfb",
   "metadata": {},
   "outputs": [],
   "source": [
    "records = []\n",
    "\n",
    "for ticker in tickers:\n",
    "    df = data[ticker].copy()\n",
    "    df['Ticker'] = ticker\n",
    "    df['Date'] = df.index\n",
    "    df.reset_index(drop=True, inplace=True)\n",
    "    records.append(df)"
   ]
  },
  {
   "cell_type": "code",
   "execution_count": 21,
   "id": "4a1a6d85-d780-496f-989f-85a5a1a183fc",
   "metadata": {},
   "outputs": [],
   "source": [
    "combined_df = pd.concat(records)"
   ]
  },
  {
   "cell_type": "code",
   "execution_count": 22,
   "id": "0d0e8abc-48d4-4729-b649-becf0fda5ffa",
   "metadata": {},
   "outputs": [],
   "source": [
    "combined_df = combined_df[['Date', 'Ticker', 'Open', 'High', 'Low', 'Close', 'Volume']]"
   ]
  },
  {
   "cell_type": "code",
   "execution_count": 25,
   "id": "c8723c90-bed8-4601-81e0-0c835bcc1d2c",
   "metadata": {},
   "outputs": [],
   "source": [
    "combined_df.to_csv(\"all_stock_data.csv\", index=False)"
   ]
  },
  {
   "cell_type": "code",
   "execution_count": 26,
   "id": "da3decf6-0992-43d8-82a9-8916320ea797",
   "metadata": {},
   "outputs": [
    {
     "name": "stdout",
     "output_type": "stream",
     "text": [
      "Flat stock data saved as 'all_stock_data.csv'\n"
     ]
    }
   ],
   "source": [
    "print(\"Flat stock data saved as 'all_stock_data.csv'\")"
   ]
  },
  {
   "cell_type": "code",
   "execution_count": null,
   "id": "da4bcf07-ad1f-46b4-921f-13fcb1c4be75",
   "metadata": {},
   "outputs": [],
   "source": []
  }
 ],
 "metadata": {
  "kernelspec": {
   "display_name": "Python (Anaconda)",
   "language": "python",
   "name": "base"
  },
  "language_info": {
   "codemirror_mode": {
    "name": "ipython",
    "version": 3
   },
   "file_extension": ".py",
   "mimetype": "text/x-python",
   "name": "python",
   "nbconvert_exporter": "python",
   "pygments_lexer": "ipython3",
   "version": "3.12.7"
  }
 },
 "nbformat": 4,
 "nbformat_minor": 5
}
